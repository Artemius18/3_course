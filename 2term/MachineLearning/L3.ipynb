{
  "cells": [
    {
      "cell_type": "code",
      "execution_count": 68,
      "id": "755feea8-6c72-4346-a8e4-4332c80688cf",
      "metadata": {
        "id": "755feea8-6c72-4346-a8e4-4332c80688cf"
      },
      "outputs": [],
      "source": [
        "import pandas as pd\n",
        "import numpy as np\n",
        "import sklearn as sl\n",
        "from sklearn.tree import DecisionTreeClassifier, plot_tree\n",
        "from sklearn.neighbors import KNeighborsClassifier\n",
        "from sklearn.metrics import confusion_matrix, accuracy_score\n",
        "from sklearn.model_selection import train_test_split\n",
        "from sklearn.model_selection import GridSearchCV\n",
        "import matplotlib.pyplot as plt"
      ]
    },
    {
      "cell_type": "code",
      "source": [
        "data = pd.read_csv('smoking.csv')\n",
        "data = data.drop(['ID', 'eyesight(left)', 'eyesight(right)', 'hearing(left)', 'hearing(right)', 'systolic', 'relaxation', 'HDL', 'LDL', 'hemoglobin', 'Urine protein', 'serum creatinine', 'AST', 'ALT', 'Gtp', 'oral', 'dental caries', 'tartar'], axis=1)\n",
        "data.head()"
      ],
      "metadata": {
        "colab": {
          "base_uri": "https://localhost:8080/",
          "height": 261
        },
        "id": "E8IiyUJQwh0w",
        "outputId": "306f03ea-8006-4e8e-d7f0-c0ed6e8c989a"
      },
      "id": "E8IiyUJQwh0w",
      "execution_count": 37,
      "outputs": [
        {
          "output_type": "execute_result",
          "data": {
            "text/plain": [
              "  gender  age  height(cm)  weight(kg)  waist(cm)  fasting blood sugar  \\\n",
              "0      F   40         155          60       81.3                 94.0   \n",
              "1      F   40         160          60       81.0                130.0   \n",
              "2      M   55         170          60       80.0                 89.0   \n",
              "3      M   40         165          70       88.0                 96.0   \n",
              "4      F   40         155          60       86.0                 80.0   \n",
              "\n",
              "   Cholesterol  triglyceride  smoking  \n",
              "0        215.0          82.0        0  \n",
              "1        192.0         115.0        0  \n",
              "2        242.0         182.0        1  \n",
              "3        322.0         254.0        0  \n",
              "4        184.0          74.0        0  "
            ],
            "text/html": [
              "\n",
              "  <div id=\"df-fbb8c230-9185-40f3-9642-28c51dfd34af\" class=\"colab-df-container\">\n",
              "    <div>\n",
              "<style scoped>\n",
              "    .dataframe tbody tr th:only-of-type {\n",
              "        vertical-align: middle;\n",
              "    }\n",
              "\n",
              "    .dataframe tbody tr th {\n",
              "        vertical-align: top;\n",
              "    }\n",
              "\n",
              "    .dataframe thead th {\n",
              "        text-align: right;\n",
              "    }\n",
              "</style>\n",
              "<table border=\"1\" class=\"dataframe\">\n",
              "  <thead>\n",
              "    <tr style=\"text-align: right;\">\n",
              "      <th></th>\n",
              "      <th>gender</th>\n",
              "      <th>age</th>\n",
              "      <th>height(cm)</th>\n",
              "      <th>weight(kg)</th>\n",
              "      <th>waist(cm)</th>\n",
              "      <th>fasting blood sugar</th>\n",
              "      <th>Cholesterol</th>\n",
              "      <th>triglyceride</th>\n",
              "      <th>smoking</th>\n",
              "    </tr>\n",
              "  </thead>\n",
              "  <tbody>\n",
              "    <tr>\n",
              "      <th>0</th>\n",
              "      <td>F</td>\n",
              "      <td>40</td>\n",
              "      <td>155</td>\n",
              "      <td>60</td>\n",
              "      <td>81.3</td>\n",
              "      <td>94.0</td>\n",
              "      <td>215.0</td>\n",
              "      <td>82.0</td>\n",
              "      <td>0</td>\n",
              "    </tr>\n",
              "    <tr>\n",
              "      <th>1</th>\n",
              "      <td>F</td>\n",
              "      <td>40</td>\n",
              "      <td>160</td>\n",
              "      <td>60</td>\n",
              "      <td>81.0</td>\n",
              "      <td>130.0</td>\n",
              "      <td>192.0</td>\n",
              "      <td>115.0</td>\n",
              "      <td>0</td>\n",
              "    </tr>\n",
              "    <tr>\n",
              "      <th>2</th>\n",
              "      <td>M</td>\n",
              "      <td>55</td>\n",
              "      <td>170</td>\n",
              "      <td>60</td>\n",
              "      <td>80.0</td>\n",
              "      <td>89.0</td>\n",
              "      <td>242.0</td>\n",
              "      <td>182.0</td>\n",
              "      <td>1</td>\n",
              "    </tr>\n",
              "    <tr>\n",
              "      <th>3</th>\n",
              "      <td>M</td>\n",
              "      <td>40</td>\n",
              "      <td>165</td>\n",
              "      <td>70</td>\n",
              "      <td>88.0</td>\n",
              "      <td>96.0</td>\n",
              "      <td>322.0</td>\n",
              "      <td>254.0</td>\n",
              "      <td>0</td>\n",
              "    </tr>\n",
              "    <tr>\n",
              "      <th>4</th>\n",
              "      <td>F</td>\n",
              "      <td>40</td>\n",
              "      <td>155</td>\n",
              "      <td>60</td>\n",
              "      <td>86.0</td>\n",
              "      <td>80.0</td>\n",
              "      <td>184.0</td>\n",
              "      <td>74.0</td>\n",
              "      <td>0</td>\n",
              "    </tr>\n",
              "  </tbody>\n",
              "</table>\n",
              "</div>\n",
              "    <div class=\"colab-df-buttons\">\n",
              "\n",
              "  <div class=\"colab-df-container\">\n",
              "    <button class=\"colab-df-convert\" onclick=\"convertToInteractive('df-fbb8c230-9185-40f3-9642-28c51dfd34af')\"\n",
              "            title=\"Convert this dataframe to an interactive table.\"\n",
              "            style=\"display:none;\">\n",
              "\n",
              "  <svg xmlns=\"http://www.w3.org/2000/svg\" height=\"24px\" viewBox=\"0 -960 960 960\">\n",
              "    <path d=\"M120-120v-720h720v720H120Zm60-500h600v-160H180v160Zm220 220h160v-160H400v160Zm0 220h160v-160H400v160ZM180-400h160v-160H180v160Zm440 0h160v-160H620v160ZM180-180h160v-160H180v160Zm440 0h160v-160H620v160Z\"/>\n",
              "  </svg>\n",
              "    </button>\n",
              "\n",
              "  <style>\n",
              "    .colab-df-container {\n",
              "      display:flex;\n",
              "      gap: 12px;\n",
              "    }\n",
              "\n",
              "    .colab-df-convert {\n",
              "      background-color: #E8F0FE;\n",
              "      border: none;\n",
              "      border-radius: 50%;\n",
              "      cursor: pointer;\n",
              "      display: none;\n",
              "      fill: #1967D2;\n",
              "      height: 32px;\n",
              "      padding: 0 0 0 0;\n",
              "      width: 32px;\n",
              "    }\n",
              "\n",
              "    .colab-df-convert:hover {\n",
              "      background-color: #E2EBFA;\n",
              "      box-shadow: 0px 1px 2px rgba(60, 64, 67, 0.3), 0px 1px 3px 1px rgba(60, 64, 67, 0.15);\n",
              "      fill: #174EA6;\n",
              "    }\n",
              "\n",
              "    .colab-df-buttons div {\n",
              "      margin-bottom: 4px;\n",
              "    }\n",
              "\n",
              "    [theme=dark] .colab-df-convert {\n",
              "      background-color: #3B4455;\n",
              "      fill: #D2E3FC;\n",
              "    }\n",
              "\n",
              "    [theme=dark] .colab-df-convert:hover {\n",
              "      background-color: #434B5C;\n",
              "      box-shadow: 0px 1px 3px 1px rgba(0, 0, 0, 0.15);\n",
              "      filter: drop-shadow(0px 1px 2px rgba(0, 0, 0, 0.3));\n",
              "      fill: #FFFFFF;\n",
              "    }\n",
              "  </style>\n",
              "\n",
              "    <script>\n",
              "      const buttonEl =\n",
              "        document.querySelector('#df-fbb8c230-9185-40f3-9642-28c51dfd34af button.colab-df-convert');\n",
              "      buttonEl.style.display =\n",
              "        google.colab.kernel.accessAllowed ? 'block' : 'none';\n",
              "\n",
              "      async function convertToInteractive(key) {\n",
              "        const element = document.querySelector('#df-fbb8c230-9185-40f3-9642-28c51dfd34af');\n",
              "        const dataTable =\n",
              "          await google.colab.kernel.invokeFunction('convertToInteractive',\n",
              "                                                    [key], {});\n",
              "        if (!dataTable) return;\n",
              "\n",
              "        const docLinkHtml = 'Like what you see? Visit the ' +\n",
              "          '<a target=\"_blank\" href=https://colab.research.google.com/notebooks/data_table.ipynb>data table notebook</a>'\n",
              "          + ' to learn more about interactive tables.';\n",
              "        element.innerHTML = '';\n",
              "        dataTable['output_type'] = 'display_data';\n",
              "        await google.colab.output.renderOutput(dataTable, element);\n",
              "        const docLink = document.createElement('div');\n",
              "        docLink.innerHTML = docLinkHtml;\n",
              "        element.appendChild(docLink);\n",
              "      }\n",
              "    </script>\n",
              "  </div>\n",
              "\n",
              "\n",
              "<div id=\"df-ef6cb5ec-89b8-49f6-87b0-e8460744a76a\">\n",
              "  <button class=\"colab-df-quickchart\" onclick=\"quickchart('df-ef6cb5ec-89b8-49f6-87b0-e8460744a76a')\"\n",
              "            title=\"Suggest charts\"\n",
              "            style=\"display:none;\">\n",
              "\n",
              "<svg xmlns=\"http://www.w3.org/2000/svg\" height=\"24px\"viewBox=\"0 0 24 24\"\n",
              "     width=\"24px\">\n",
              "    <g>\n",
              "        <path d=\"M19 3H5c-1.1 0-2 .9-2 2v14c0 1.1.9 2 2 2h14c1.1 0 2-.9 2-2V5c0-1.1-.9-2-2-2zM9 17H7v-7h2v7zm4 0h-2V7h2v10zm4 0h-2v-4h2v4z\"/>\n",
              "    </g>\n",
              "</svg>\n",
              "  </button>\n",
              "\n",
              "<style>\n",
              "  .colab-df-quickchart {\n",
              "      --bg-color: #E8F0FE;\n",
              "      --fill-color: #1967D2;\n",
              "      --hover-bg-color: #E2EBFA;\n",
              "      --hover-fill-color: #174EA6;\n",
              "      --disabled-fill-color: #AAA;\n",
              "      --disabled-bg-color: #DDD;\n",
              "  }\n",
              "\n",
              "  [theme=dark] .colab-df-quickchart {\n",
              "      --bg-color: #3B4455;\n",
              "      --fill-color: #D2E3FC;\n",
              "      --hover-bg-color: #434B5C;\n",
              "      --hover-fill-color: #FFFFFF;\n",
              "      --disabled-bg-color: #3B4455;\n",
              "      --disabled-fill-color: #666;\n",
              "  }\n",
              "\n",
              "  .colab-df-quickchart {\n",
              "    background-color: var(--bg-color);\n",
              "    border: none;\n",
              "    border-radius: 50%;\n",
              "    cursor: pointer;\n",
              "    display: none;\n",
              "    fill: var(--fill-color);\n",
              "    height: 32px;\n",
              "    padding: 0;\n",
              "    width: 32px;\n",
              "  }\n",
              "\n",
              "  .colab-df-quickchart:hover {\n",
              "    background-color: var(--hover-bg-color);\n",
              "    box-shadow: 0 1px 2px rgba(60, 64, 67, 0.3), 0 1px 3px 1px rgba(60, 64, 67, 0.15);\n",
              "    fill: var(--button-hover-fill-color);\n",
              "  }\n",
              "\n",
              "  .colab-df-quickchart-complete:disabled,\n",
              "  .colab-df-quickchart-complete:disabled:hover {\n",
              "    background-color: var(--disabled-bg-color);\n",
              "    fill: var(--disabled-fill-color);\n",
              "    box-shadow: none;\n",
              "  }\n",
              "\n",
              "  .colab-df-spinner {\n",
              "    border: 2px solid var(--fill-color);\n",
              "    border-color: transparent;\n",
              "    border-bottom-color: var(--fill-color);\n",
              "    animation:\n",
              "      spin 1s steps(1) infinite;\n",
              "  }\n",
              "\n",
              "  @keyframes spin {\n",
              "    0% {\n",
              "      border-color: transparent;\n",
              "      border-bottom-color: var(--fill-color);\n",
              "      border-left-color: var(--fill-color);\n",
              "    }\n",
              "    20% {\n",
              "      border-color: transparent;\n",
              "      border-left-color: var(--fill-color);\n",
              "      border-top-color: var(--fill-color);\n",
              "    }\n",
              "    30% {\n",
              "      border-color: transparent;\n",
              "      border-left-color: var(--fill-color);\n",
              "      border-top-color: var(--fill-color);\n",
              "      border-right-color: var(--fill-color);\n",
              "    }\n",
              "    40% {\n",
              "      border-color: transparent;\n",
              "      border-right-color: var(--fill-color);\n",
              "      border-top-color: var(--fill-color);\n",
              "    }\n",
              "    60% {\n",
              "      border-color: transparent;\n",
              "      border-right-color: var(--fill-color);\n",
              "    }\n",
              "    80% {\n",
              "      border-color: transparent;\n",
              "      border-right-color: var(--fill-color);\n",
              "      border-bottom-color: var(--fill-color);\n",
              "    }\n",
              "    90% {\n",
              "      border-color: transparent;\n",
              "      border-bottom-color: var(--fill-color);\n",
              "    }\n",
              "  }\n",
              "</style>\n",
              "\n",
              "  <script>\n",
              "    async function quickchart(key) {\n",
              "      const quickchartButtonEl =\n",
              "        document.querySelector('#' + key + ' button');\n",
              "      quickchartButtonEl.disabled = true;  // To prevent multiple clicks.\n",
              "      quickchartButtonEl.classList.add('colab-df-spinner');\n",
              "      try {\n",
              "        const charts = await google.colab.kernel.invokeFunction(\n",
              "            'suggestCharts', [key], {});\n",
              "      } catch (error) {\n",
              "        console.error('Error during call to suggestCharts:', error);\n",
              "      }\n",
              "      quickchartButtonEl.classList.remove('colab-df-spinner');\n",
              "      quickchartButtonEl.classList.add('colab-df-quickchart-complete');\n",
              "    }\n",
              "    (() => {\n",
              "      let quickchartButtonEl =\n",
              "        document.querySelector('#df-ef6cb5ec-89b8-49f6-87b0-e8460744a76a button');\n",
              "      quickchartButtonEl.style.display =\n",
              "        google.colab.kernel.accessAllowed ? 'block' : 'none';\n",
              "    })();\n",
              "  </script>\n",
              "</div>\n",
              "    </div>\n",
              "  </div>\n"
            ],
            "application/vnd.google.colaboratory.intrinsic+json": {
              "type": "dataframe",
              "variable_name": "data",
              "summary": "{\n  \"name\": \"data\",\n  \"rows\": 55692,\n  \"fields\": [\n    {\n      \"column\": \"gender\",\n      \"properties\": {\n        \"dtype\": \"category\",\n        \"num_unique_values\": 2,\n        \"samples\": [\n          \"M\",\n          \"F\"\n        ],\n        \"semantic_type\": \"\",\n        \"description\": \"\"\n      }\n    },\n    {\n      \"column\": \"age\",\n      \"properties\": {\n        \"dtype\": \"number\",\n        \"std\": 12,\n        \"min\": 20,\n        \"max\": 85,\n        \"num_unique_values\": 14,\n        \"samples\": [\n          20,\n          75\n        ],\n        \"semantic_type\": \"\",\n        \"description\": \"\"\n      }\n    },\n    {\n      \"column\": \"height(cm)\",\n      \"properties\": {\n        \"dtype\": \"number\",\n        \"std\": 9,\n        \"min\": 130,\n        \"max\": 190,\n        \"num_unique_values\": 13,\n        \"samples\": [\n          135,\n          145\n        ],\n        \"semantic_type\": \"\",\n        \"description\": \"\"\n      }\n    },\n    {\n      \"column\": \"weight(kg)\",\n      \"properties\": {\n        \"dtype\": \"number\",\n        \"std\": 12,\n        \"min\": 30,\n        \"max\": 135,\n        \"num_unique_values\": 22,\n        \"samples\": [\n          60,\n          105\n        ],\n        \"semantic_type\": \"\",\n        \"description\": \"\"\n      }\n    },\n    {\n      \"column\": \"waist(cm)\",\n      \"properties\": {\n        \"dtype\": \"number\",\n        \"std\": 9.27422276159133,\n        \"min\": 51.0,\n        \"max\": 129.0,\n        \"num_unique_values\": 566,\n        \"samples\": [\n          61.4,\n          118.2\n        ],\n        \"semantic_type\": \"\",\n        \"description\": \"\"\n      }\n    },\n    {\n      \"column\": \"fasting blood sugar\",\n      \"properties\": {\n        \"dtype\": \"number\",\n        \"std\": 20.795591271526924,\n        \"min\": 46.0,\n        \"max\": 505.0,\n        \"num_unique_values\": 276,\n        \"samples\": [\n          117.0,\n          164.0\n        ],\n        \"semantic_type\": \"\",\n        \"description\": \"\"\n      }\n    },\n    {\n      \"column\": \"Cholesterol\",\n      \"properties\": {\n        \"dtype\": \"number\",\n        \"std\": 36.29794042153382,\n        \"min\": 55.0,\n        \"max\": 445.0,\n        \"num_unique_values\": 286,\n        \"samples\": [\n          198.0,\n          360.0\n        ],\n        \"semantic_type\": \"\",\n        \"description\": \"\"\n      }\n    },\n    {\n      \"column\": \"triglyceride\",\n      \"properties\": {\n        \"dtype\": \"number\",\n        \"std\": 71.63981725861154,\n        \"min\": 8.0,\n        \"max\": 999.0,\n        \"num_unique_values\": 390,\n        \"samples\": [\n          147.0,\n          127.0\n        ],\n        \"semantic_type\": \"\",\n        \"description\": \"\"\n      }\n    },\n    {\n      \"column\": \"smoking\",\n      \"properties\": {\n        \"dtype\": \"number\",\n        \"std\": 0,\n        \"min\": 0,\n        \"max\": 1,\n        \"num_unique_values\": 2,\n        \"samples\": [\n          1,\n          0\n        ],\n        \"semantic_type\": \"\",\n        \"description\": \"\"\n      }\n    }\n  ]\n}"
            }
          },
          "metadata": {},
          "execution_count": 37
        }
      ]
    },
    {
      "cell_type": "code",
      "source": [
        "for col in data.columns:\n",
        "    if data[col].dtype == 'object':\n",
        "        data[col] = pd.Categorical(data[col]).codes\n",
        "\n",
        "data.dtypes"
      ],
      "metadata": {
        "colab": {
          "base_uri": "https://localhost:8080/"
        },
        "id": "I48Q2GmXyDvx",
        "outputId": "438d003a-fe5b-41bd-9e11-df6e4b6c5f42"
      },
      "id": "I48Q2GmXyDvx",
      "execution_count": 38,
      "outputs": [
        {
          "output_type": "execute_result",
          "data": {
            "text/plain": [
              "gender                    int8\n",
              "age                      int64\n",
              "height(cm)               int64\n",
              "weight(kg)               int64\n",
              "waist(cm)              float64\n",
              "fasting blood sugar    float64\n",
              "Cholesterol            float64\n",
              "triglyceride           float64\n",
              "smoking                  int64\n",
              "dtype: object"
            ]
          },
          "metadata": {},
          "execution_count": 38
        }
      ]
    },
    {
      "cell_type": "code",
      "source": [
        "X = data.drop(columns='smoking')\n",
        "Y = data.smoking\n",
        "X_train, X_test, Y_train, Y_test = train_test_split(X, Y, test_size=0.30, random_state=1)"
      ],
      "metadata": {
        "id": "60vKAyNn2gk_"
      },
      "id": "60vKAyNn2gk_",
      "execution_count": 46,
      "outputs": []
    },
    {
      "cell_type": "code",
      "source": [
        "print(X_train.shape, X_test.shape)\n",
        "print(Y_train.shape, Y_test.shape)"
      ],
      "metadata": {
        "colab": {
          "base_uri": "https://localhost:8080/"
        },
        "id": "4Qp6cv8sCV4g",
        "outputId": "c39fdefb-dbac-43f6-832c-e9e7fdeaeaa9"
      },
      "id": "4Qp6cv8sCV4g",
      "execution_count": 44,
      "outputs": [
        {
          "output_type": "stream",
          "name": "stdout",
          "text": [
            "(41769, 8) (13923, 8)\n",
            "(41769,) (13923,)\n"
          ]
        }
      ]
    },
    {
      "cell_type": "code",
      "source": [
        "tree = DecisionTreeClassifier(random_state=1)\n",
        "tree.fit(X_train, Y_train)\n",
        "tree_pred = tree.predict(X_test)\n",
        "tree_accuracy = accuracy_score(Y_test, tree_pred)\n",
        "print('Decision Tree model accuracy:', tree_accuracy)"
      ],
      "metadata": {
        "colab": {
          "base_uri": "https://localhost:8080/"
        },
        "id": "pKQMCVk1FDJn",
        "outputId": "debb2ce4-18fe-40cc-e9e6-ca42bf6a45e7"
      },
      "id": "pKQMCVk1FDJn",
      "execution_count": 60,
      "outputs": [
        {
          "output_type": "stream",
          "name": "stdout",
          "text": [
            "Decision Tree model accuracy: 0.7675963610246589\n"
          ]
        }
      ]
    },
    {
      "cell_type": "code",
      "source": [
        "knn = KNeighborsClassifier()\n",
        "knn.fit(X_train, Y_train)\n",
        "knn_pred = knn.predict(X_test)\n",
        "knn_accuracy = accuracy_score(Y_test, knn_pred)\n",
        "print('KNN model accuracy:', knn_accuracy)"
      ],
      "metadata": {
        "colab": {
          "base_uri": "https://localhost:8080/"
        },
        "id": "sfxoJ4N9FNq8",
        "outputId": "b24fc09b-ef59-4a68-9428-d31a84ef3bd2"
      },
      "id": "sfxoJ4N9FNq8",
      "execution_count": 61,
      "outputs": [
        {
          "output_type": "stream",
          "name": "stdout",
          "text": [
            "KNN model accuracy: 0.7046325113717979\n"
          ]
        }
      ]
    },
    {
      "cell_type": "code",
      "source": [
        "tree_params = {'max_depth': range(1, 11)}\n",
        "tree_grid = GridSearchCV(tree, tree_params, cv=5, n_jobs=-1)\n",
        "tree_grid.fit(X_train, Y_train)\n",
        "best_tree = tree_grid.best_estimator_\n",
        "best_tree_accuracy = accuracy_score(Y_test, best_tree.predict(X_test))\n",
        "print('Desision Tree model best parameters:', tree_grid.best_params_)\n",
        "print('Best Desision Tree model accuracy:', best_tree_accuracy)"
      ],
      "metadata": {
        "colab": {
          "base_uri": "https://localhost:8080/"
        },
        "id": "5LYt36c_F7jM",
        "outputId": "85c395b3-da90-4c25-a18e-846911362c37"
      },
      "id": "5LYt36c_F7jM",
      "execution_count": 62,
      "outputs": [
        {
          "output_type": "stream",
          "name": "stdout",
          "text": [
            "Desision Tree model best parameters: {'max_depth': 7}\n",
            "Best Desision Tree model accuracy: 0.733720373473785\n"
          ]
        }
      ]
    },
    {
      "cell_type": "code",
      "source": [
        "knn_params = {'n_neighbors': range(1, 11)}\n",
        "knn_grid = GridSearchCV(knn, knn_params, cv=5, n_jobs=-1)\n",
        "knn_grid.fit(X_train, Y_train)\n",
        "best_knn = knn_grid.best_estimator_\n",
        "accuracy_best_knn = accuracy_score(Y_test, best_knn.predict(X_test))\n",
        "print(\"KNN model best parameters:\", knn_grid.best_params_)\n",
        "print(\"Best KNN model accuracy:\", accuracy_best_knn)"
      ],
      "metadata": {
        "colab": {
          "base_uri": "https://localhost:8080/"
        },
        "id": "z7d4jsajF9kp",
        "outputId": "e8455f1b-6cb6-4bc0-e670-224b982dbd46"
      },
      "id": "z7d4jsajF9kp",
      "execution_count": 63,
      "outputs": [
        {
          "output_type": "stream",
          "name": "stdout",
          "text": [
            "KNN model best parameters: {'n_neighbors': 1}\n",
            "Best KNN model accuracy: 0.745690687096002\n"
          ]
        }
      ]
    },
    {
      "cell_type": "code",
      "source": [
        "tree_confusion = confusion_matrix(Y_test, tree_pred)\n",
        "knn_confusion = confusion_matrix(Y_test, knn_pred)\n",
        "print('Decision Tree model confusion matrix:');\n",
        "print(tree_confusion)\n",
        "print('\\nKNN model confusion matrix:');\n",
        "print(knn_confusion)"
      ],
      "metadata": {
        "colab": {
          "base_uri": "https://localhost:8080/"
        },
        "id": "csA3s6CkF_OQ",
        "outputId": "5b87ca71-9c0c-484c-e40c-e6e140f2e916"
      },
      "id": "csA3s6CkF_OQ",
      "execution_count": 66,
      "outputs": [
        {
          "output_type": "stream",
          "name": "stdout",
          "text": [
            "Decision Tree model confusion matrix:\n",
            "[[8565 1966]\n",
            " [1917 4260]]\n",
            "\n",
            "KNN model confusion matrix:\n",
            "[[8258 2273]\n",
            " [2662 3515]]\n"
          ]
        }
      ]
    },
    {
      "cell_type": "code",
      "source": [
        "tree_viz = DecisionTreeClassifier(max_depth=2, random_state=1)\n",
        "tree_viz.fit(X_train, Y_train)\n",
        "plot_tree(tree_viz, filled=True)\n",
        "plt.savefig('tree_visualization.png')"
      ],
      "metadata": {
        "colab": {
          "base_uri": "https://localhost:8080/",
          "height": 406
        },
        "id": "jMMoyZUJIXJ4",
        "outputId": "36e2da6d-19a3-4fd2-afe7-060c8e7c7e9a"
      },
      "id": "jMMoyZUJIXJ4",
      "execution_count": 77,
      "outputs": [
        {
          "output_type": "display_data",
          "data": {
            "text/plain": [
              "<Figure size 640x480 with 1 Axes>"
            ],
            "image/png": "[encoded data removed]"
          },
          "metadata": {}
        }
      ]
    },
    {
      "cell_type": "code",
      "execution_count": null,
      "id": "4650164f-ee93-4f0a-905b-1a51a1a2cd17",
      "metadata": {
        "id": "4650164f-ee93-4f0a-905b-1a51a1a2cd17"
      },
      "outputs": [],
      "source": [
        "# строится дерево, в узлах - характеристические параметры и значение, в левом поддереве узлы с значением данного параметра меньше данного значения,\n",
        "# в правом - наоборот. В листьях хранятся значения y, которые надо предсказывать. Данное дерево может использоваться для предсказания неизвестных\n",
        "# данных, для этого нужно просто пройтись по дереву в соответствии с параметрами неизвестной строки, и в листе, в котором закончился обход, будет\n",
        "# находиться предсказание"
      ]
    },
    {
      "cell_type": "code",
      "execution_count": null,
      "id": "978ed3f0-3258-45dd-b752-5584126663e7",
      "metadata": {
        "id": "978ed3f0-3258-45dd-b752-5584126663e7"
      },
      "outputs": [],
      "source": [
        "# Сформулируйте задачу классификации?\n",
        "    # определение принадлежности значений к заранее определённым классам\n",
        "# Что означает обучение с учителем?\n",
        "    # когда модель учится на данных с правильными ответами\n",
        "# Зачем разделять обучающую выборку?\n",
        "    # для оценки точности модели\n",
        "# Что означает переобученная модель? Как с этим бороться?\n",
        "    # модель, на которую слишком сильно влияют обучающие данные, из-за чего падает точность на тестовых данных\n",
        "    # увеличение объёма обучающих данных\n",
        "    # упрощение модели (например, уменьшение глубины дерева решений)\n",
        "# Что означает обобщающая способность моделей машинного обучения?\n",
        "    # способность правильно прогнозировать и обобщать знания на новые данные\n",
        "# Объясните значения в матрице ошибок, как она рассчитывается?\n",
        "    # true-positive false-negative (1)\n",
        "    # false-positive (2) true-negative\n",
        "# Что показывают accuracy, precision и recall?\n",
        "    # Accuracy (TP + TN) / (TP + TN + FP + FN)\n",
        "    # Precision TP / (TP + FP)\n",
        "    # Recall TP / (TP + FN)"
      ]
    }
  ],
  "metadata": {
    "kernelspec": {
      "display_name": "Python 3 (ipykernel)",
      "language": "python",
      "name": "python3"
    },
    "language_info": {
      "codemirror_mode": {
        "name": "ipython",
        "version": 3
      },
      "file_extension": ".py",
      "mimetype": "text/x-python",
      "name": "python",
      "nbconvert_exporter": "python",
      "pygments_lexer": "ipython3",
      "version": "3.11.5"
    },
    "colab": {
      "provenance": []
    }
  },
  "nbformat": 4,
  "nbformat_minor": 5
}